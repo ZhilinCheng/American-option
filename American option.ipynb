{
 "cells": [
  {
   "cell_type": "code",
   "execution_count": 9,
   "id": "9819dc0e",
   "metadata": {},
   "outputs": [
    {
     "name": "stderr",
     "output_type": "stream",
     "text": [
      "INFO:__main__:American Option Price: 5.967034\n"
     ]
    }
   ],
   "source": [
    "import numpy as np\n",
    "import logging\n",
    "\n",
    "# Set up logging\n",
    "logging.basicConfig(level=logging.INFO)\n",
    "logger = logging.getLogger(__name__)\n",
    "\n",
    "def generate_paths(S0, r, sigma, T, M, N):\n",
    "    \"\"\"\n",
    "    Generate stock price paths using geometric Brownian motion.\n",
    "\n",
    "    Args:\n",
    "        S0 (float): Initial stock price.\n",
    "        r (float): Risk-free interest rate.\n",
    "        sigma (float): Volatility.\n",
    "        T (float): Time to maturity.\n",
    "        M (int): Number of time steps.\n",
    "        N (int): Number of paths.\n",
    "\n",
    "    Returns:\n",
    "        numpy.ndarray: Array of shape (M+1, N) representing the stock price paths.\n",
    "    \"\"\"\n",
    "    dt = T / M\n",
    "    S = np.zeros((M + 1, N))\n",
    "    S[0] = S0\n",
    "    for t in range(1, M + 1):\n",
    "        z = np.random.standard_normal(N)\n",
    "        S[t] = S[t - 1] * np.exp((r - 0.5 * sigma ** 2) * dt + sigma * np.sqrt(dt) * z)\n",
    "    return S\n",
    "\n",
    "def LSMC_American_Option(S0, K, r, sigma, T, M, N):\n",
    "    # Function body with appropriate indentation\n",
    "    dt = T / M\n",
    "    S = generate_paths(S0, r, sigma, T, M, N)\n",
    "    V = np.maximum(K - S[-1], 0)  # Payoff at maturity\n",
    "\n",
    "    for t in range(M - 1, 0, -1):\n",
    "        regression = np.polyfit(S[t], V * np.exp(-r * dt), 3)\n",
    "        C = np.polyval(regression, S[t])  # Continuation values\n",
    "        V = np.where(K - S[t] > C, K - S[t], V * np.exp(-r * dt))\n",
    "\n",
    "    V0 = np.exp(-r * dt) * np.mean(V)\n",
    "    return V0\n",
    "\n",
    "def price_american_option(S0, K, r, sigma, T, M, N):\n",
    "    try:\n",
    "        option_price = LSMC_American_Option(S0, K, r, sigma, T, M, N)\n",
    "        logger.info(\"American Option Price: %f\", option_price)\n",
    "        return option_price\n",
    "    except Exception as e:\n",
    "        logger.exception(\"Error occurred while pricing American option: %s\", str(e))\n",
    "        raise\n",
    "\n",
    "if __name__ == \"__main__\":\n",
    "    S0 = 100\n",
    "    K = 100\n",
    "    r = 0.05\n",
    "    sigma = 0.2\n",
    "    T = 1.0\n",
    "    M = 100\n",
    "    N = 10000\n",
    "\n",
    "    price_american_option(S0, K, r, sigma, T, M, N)"
   ]
  },
  {
   "cell_type": "code",
   "execution_count": null,
   "id": "fd10fddd",
   "metadata": {},
   "outputs": [],
   "source": []
  }
 ],
 "metadata": {
  "kernelspec": {
   "display_name": "Python 3 (ipykernel)",
   "language": "python",
   "name": "python3"
  },
  "language_info": {
   "codemirror_mode": {
    "name": "ipython",
    "version": 3
   },
   "file_extension": ".py",
   "mimetype": "text/x-python",
   "name": "python",
   "nbconvert_exporter": "python",
   "pygments_lexer": "ipython3",
   "version": "3.9.13"
  }
 },
 "nbformat": 4,
 "nbformat_minor": 5
}
